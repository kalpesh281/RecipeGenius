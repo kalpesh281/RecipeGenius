{
 "cells": [
  {
   "cell_type": "code",
   "execution_count": 4,
   "metadata": {},
   "outputs": [],
   "source": [
    "import os\n",
    "import json\n",
    "import string\n",
    "import pickle \n",
    "import numpy as np\n",
    "import nltk\n",
    "from nltk.corpus import stopwords\n",
    "from nltk.stem import SnowballStemmer\n",
    "from nltk.tokenize import word_tokenize\n",
    "from tqdm.notebook import tqdm,tnrange\n",
    "from collections import Counter\n",
    "#nltk.download(\"punkt\")\n",
    "#nltk.download(\"stopwords\")"
   ]
  },
  {
   "cell_type": "code",
   "execution_count": 5,
   "metadata": {},
   "outputs": [],
   "source": [
    "class InvertedIndex():\n",
    "    def __init__(self):\n",
    "        self.DFpostings={}                #Dictionary contains Posting List for each words \n",
    "        self.termsInFile=[]               #List contains all words in a single file\n",
    "\n",
    "    def stripSpecialChar(self,text):\n",
    "        return ''.join(ch for ch in text if ch.isalnum() and not ch.isdigit() and ch not in string.punctuation)\n",
    "\n",
    "    def preProcess(self,text):\n",
    "        stemmer = SnowballStemmer(\"english\")\n",
    "        stopWords = set(stopwords.words('english'))\n",
    "\n",
    "        text = text.lower()                                     # convert all text to lower case\n",
    "        text_tokens = word_tokenize(text)                       # tokenizing the text\n",
    "\n",
    "        stemmedWords = list([stemmer.stem(word) for word in text_tokens])   # Stemming \n",
    "        validTokens = [i for i in stemmedWords if i not in stopWords]       # Removing Stop Words\n",
    "\n",
    "        validTokens = [self.stripSpecialChar(x) for x in validTokens]   # stripping special characters\n",
    "        validTokens = [x for x in validTokens if len(x) > 1]    # Choosing only words which has length > 1\n",
    "        return validTokens, set(validTokens)\n",
    "\n",
    "    def indexFile(self,file,fileId):\n",
    "        '''\n",
    "        Creates Index for each File\n",
    "        '''\n",
    "        tokens, setTokens = self.preProcess(file)\n",
    "        self.termsInFile.append(tokens)\n",
    "        for i in setTokens:\n",
    "            if i in self.DFpostings:\n",
    "                self.DFpostings[i].append(fileId)\n",
    "            else:\n",
    "                self.DFpostings[i] = [fileId]\n",
    "                \n",
    "    def save(self,file):\n",
    "        '''\n",
    "        Save the index to a file locally\n",
    "        '''\n",
    "        json.dump(self.DFpostings, open(\"DFPostings\"+file, \"w\"))\n",
    "        json.dump(self.termsInFile, open(\"TermsInfile\"+file, \"w\"))"
   ]
  },
  {
   "cell_type": "code",
   "execution_count": 6,
   "metadata": {},
   "outputs": [
    {
     "data": {
      "application/vnd.jupyter.widget-view+json": {
       "model_id": "fa6ce7be17844e40b2a02519f7a9874b",
       "version_major": 2,
       "version_minor": 0
      },
      "text/plain": [
       "0it [00:00, ?it/s]"
      ]
     },
     "metadata": {},
     "output_type": "display_data"
    }
   ],
   "source": [
    "allFiles = os.walk(\"recipes_folder\")\n",
    "filePaths = []\n",
    "for i in allFiles:\n",
    "    for j in i[2]:\n",
    "        filePath = i[0] + \"/\" + j\n",
    "        filePaths.append(filePath)\n",
    "\n",
    "json.dump(filePaths, open(\"Final_mapping.json\", \"w\"))\n",
    "\n",
    "indexFile = InvertedIndex()\n",
    "indexTitle = InvertedIndex()\n",
    "\n",
    "for i,filePath in enumerate(tqdm(filePaths)):\n",
    "    file = open(filePath, encoding=\"utf8\")\n",
    "    readTitle = file.readline().replace('\\n', ' ')\n",
    "    readFile = file.read().replace('\\n', ' ')\n",
    "    \n",
    "    file.close()\n",
    "    indexFile.indexFile(readFile, i)\n",
    "    indexTitle.indexFile(readTitle, i)\n",
    "    \n",
    "#indexFile.save(\"File.txt\")\n",
    "#indexTitle.save(\"Title.txt\")   \n",
    "\n",
    "# Saving the File\n",
    "serializedFile = pickle.dumps(indexFile)\n",
    "filename = 'ProjectFile.obj'\n",
    "with open(filename,'wb') as file_object:\n",
    "    file_object.write(serializedFile)\n",
    "    \n",
    "# Saving the Title \n",
    "serializedTitle = pickle.dumps(indexTitle)\n",
    "filename = 'ProjectTitle.obj'\n",
    "with open(filename,'wb') as file_object:\n",
    "    file_object.write(serializedTitle)"
   ]
  },
  {
   "cell_type": "code",
   "execution_count": null,
   "metadata": {},
   "outputs": [],
   "source": []
  }
 ],
 "metadata": {
  "kernelspec": {
   "display_name": "Python 3 (ipykernel)",
   "language": "python",
   "name": "python3"
  },
  "language_info": {
   "codemirror_mode": {
    "name": "ipython",
    "version": 3
   },
   "file_extension": ".py",
   "mimetype": "text/x-python",
   "name": "python",
   "nbconvert_exporter": "python",
   "pygments_lexer": "ipython3",
   "version": "3.10.7"
  }
 },
 "nbformat": 4,
 "nbformat_minor": 4
}
