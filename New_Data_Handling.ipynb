{
 "cells": [
  {
   "cell_type": "code",
   "execution_count": 1,
   "metadata": {},
   "outputs": [],
   "source": [
    "import os\n",
    "import json\n",
    "import string\n",
    "import pickle \n",
    "import numpy as np\n",
    "import nltk\n",
    "from nltk.corpus import stopwords\n",
    "from nltk.stem import SnowballStemmer\n",
    "from nltk.tokenize import word_tokenize\n",
    "from tqdm.notebook import tqdm,tnrange\n",
    "from collections import Counter\n",
    "#nltk.download(\"punkt\")\n",
    "#nltk.download(\"stopwords\")\n",
    "class InvertedIndex():\n",
    "    def __init__(self):\n",
    "        self.DFpostings={}                #Dictionary contains Posting List for each words \n",
    "        self.termsInFile=[]               #List contains all words in a single file\n",
    "\n",
    "    def stripSpecialChar(self,text):\n",
    "        return ''.join(ch for ch in text if ch.isalnum() and not ch.isdigit() and ch not in string.punctuation)\n",
    "\n",
    "    def preProcess(self,text):\n",
    "        stemmer = SnowballStemmer(\"english\")\n",
    "        stopWords = set(stopwords.words('english'))\n",
    "\n",
    "        text = text.lower()                                     # convert all text to lower case\n",
    "        text_tokens = word_tokenize(text)                       # tokenizing the text\n",
    "\n",
    "        stemmedWords = list([stemmer.stem(word) for word in text_tokens])   # Stemming \n",
    "        validTokens = [i for i in stemmedWords if i not in stopWords]       # Removing Stop Words\n",
    "\n",
    "        validTokens = [self.stripSpecialChar(x) for x in validTokens]   # stripping special characters\n",
    "        validTokens = [x for x in validTokens if len(x) > 1]    # Choosing only words which has length > 1\n",
    "        return validTokens, set(validTokens)\n",
    "\n",
    "    def indexFile(self,file,fileId):\n",
    "        '''\n",
    "        Creates Index for each File\n",
    "        '''\n",
    "        tokens, setTokens = self.preProcess(file)\n",
    "        self.termsInFile.append(tokens)\n",
    "        for i in setTokens:\n",
    "            if i in self.DFpostings:\n",
    "                self.DFpostings[i].append(fileId)\n",
    "            else:\n",
    "                self.DFpostings[i] = [fileId]\n",
    "                \n",
    "    def save(self,file):\n",
    "        '''\n",
    "        Save the index to a file locally\n",
    "        '''\n",
    "        json.dump(self.DFpostings, open(\"DFPostings\"+file, \"w\"))\n",
    "        json.dump(self.termsInFile, open(\"TermsInfile\"+file, \"w\"))"
   ]
  },
  {
   "cell_type": "markdown",
   "metadata": {},
   "source": [
    "# Opening the Project Object"
   ]
  },
  {
   "cell_type": "code",
   "execution_count": 2,
   "metadata": {},
   "outputs": [],
   "source": [
    "with open('ProjectFile.obj','rb') as file_object:\n",
    "    file_data = file_object.read()\n",
    "file_obj = pickle.loads(file_data)\n",
    "\n",
    "import pickle\n",
    "with open('ProjectTitle.obj','rb') as file_object:\n",
    "    title_data = file_object.read()\n",
    "title_obj = pickle.loads(title_data)"
   ]
  },
  {
   "cell_type": "markdown",
   "metadata": {},
   "source": [
    "# Adding the new file in the Index "
   ]
  },
  {
   "cell_type": "code",
   "execution_count": 3,
   "metadata": {},
   "outputs": [
    {
     "ename": "FileNotFoundError",
     "evalue": "[Errno 2] No such file or directory: 'recipes_folder/Newfile.txt'",
     "output_type": "error",
     "traceback": [
      "\u001b[1;31m---------------------------------------------------------------------------\u001b[0m",
      "\u001b[1;31mFileNotFoundError\u001b[0m                         Traceback (most recent call last)",
      "Input \u001b[1;32mIn [3]\u001b[0m, in \u001b[0;36m<cell line: 6>\u001b[1;34m()\u001b[0m\n\u001b[0;32m      3\u001b[0m data\u001b[38;5;241m.\u001b[39mappend(\u001b[38;5;124m\"\u001b[39m\u001b[38;5;124mNewfile.txt\u001b[39m\u001b[38;5;124m\"\u001b[39m)\n\u001b[0;32m      4\u001b[0m json\u001b[38;5;241m.\u001b[39mdump(data, \u001b[38;5;28mopen\u001b[39m(\u001b[38;5;124m\"\u001b[39m\u001b[38;5;124mFinal_mapping.json\u001b[39m\u001b[38;5;124m\"\u001b[39m, \u001b[38;5;124m\"\u001b[39m\u001b[38;5;124mw\u001b[39m\u001b[38;5;124m\"\u001b[39m))\n\u001b[1;32m----> 6\u001b[0m file \u001b[38;5;241m=\u001b[39m \u001b[38;5;28;43mopen\u001b[39;49m\u001b[43m(\u001b[49m\u001b[38;5;124;43m\"\u001b[39;49m\u001b[38;5;124;43mrecipes_folder/Newfile.txt\u001b[39;49m\u001b[38;5;124;43m\"\u001b[39;49m\u001b[43m,\u001b[49m\u001b[43m \u001b[49m\u001b[43mencoding\u001b[49m\u001b[38;5;241;43m=\u001b[39;49m\u001b[38;5;124;43m\"\u001b[39;49m\u001b[38;5;124;43mutf8\u001b[39;49m\u001b[38;5;124;43m\"\u001b[39;49m\u001b[43m)\u001b[49m\n\u001b[0;32m      7\u001b[0m readTitle \u001b[38;5;241m=\u001b[39m file\u001b[38;5;241m.\u001b[39mreadline()\u001b[38;5;241m.\u001b[39mreplace(\u001b[38;5;124m'\u001b[39m\u001b[38;5;130;01m\\n\u001b[39;00m\u001b[38;5;124m'\u001b[39m, \u001b[38;5;124m'\u001b[39m\u001b[38;5;124m \u001b[39m\u001b[38;5;124m'\u001b[39m)\n\u001b[0;32m      8\u001b[0m readFile \u001b[38;5;241m=\u001b[39m file\u001b[38;5;241m.\u001b[39mread()\u001b[38;5;241m.\u001b[39mreplace(\u001b[38;5;124m'\u001b[39m\u001b[38;5;130;01m\\n\u001b[39;00m\u001b[38;5;124m'\u001b[39m, \u001b[38;5;124m'\u001b[39m\u001b[38;5;124m \u001b[39m\u001b[38;5;124m'\u001b[39m)\n",
      "\u001b[1;31mFileNotFoundError\u001b[0m: [Errno 2] No such file or directory: 'recipes_folder/Newfile.txt'"
     ]
    }
   ],
   "source": [
    "f = open('Final_mapping.json',\"r\")\n",
    "data = json.load(f)\n",
    "data.append(\"Newfile.txt\")\n",
    "json.dump(data, open(\"Final_mapping.json\", \"w\"))\n",
    "\n",
    "file = open(\"recipes_folder/Newfile.txt\", encoding=\"utf8\")\n",
    "readTitle = file.readline().replace('\\n', ' ')\n",
    "readFile = file.read().replace('\\n', ' ')\n",
    "\n",
    "file.close()\n",
    "file_obj.indexFile(readFile, i)\n",
    "title_obj.indexFile(readTitle, i)"
   ]
  },
  {
   "cell_type": "markdown",
   "metadata": {},
   "source": [
    "# Saving the New Index"
   ]
  },
  {
   "cell_type": "code",
   "execution_count": null,
   "metadata": {},
   "outputs": [],
   "source": [
    "# Saving the File\n",
    "serializedFile = pickle.dumps(indexFile)\n",
    "filename = 'ProjectFile.obj'\n",
    "with open(filename,'wb') as file_object:\n",
    "    file_object.write(serializedFile)\n",
    "    \n",
    "# Saving the Title \n",
    "serializedTitle = pickle.dumps(indexTitle)\n",
    "filename = 'ProjectTitle.obj'\n",
    "with open(filename,'wb') as file_object:\n",
    "    file_object.write(serializedTitle)"
   ]
  }
 ],
 "metadata": {
  "kernelspec": {
   "display_name": "Python 3 (ipykernel)",
   "language": "python",
   "name": "python3"
  },
  "language_info": {
   "codemirror_mode": {
    "name": "ipython",
    "version": 3
   },
   "file_extension": ".py",
   "mimetype": "text/x-python",
   "name": "python",
   "nbconvert_exporter": "python",
   "pygments_lexer": "ipython3",
   "version": "3.10.7"
  }
 },
 "nbformat": 4,
 "nbformat_minor": 4
}
